{
  "cells": [
    {
      "cell_type": "code",
      "execution_count": null,
      "metadata": {
        "id": "L3XkAU85g07H"
      },
      "outputs": [],
      "source": [
        "#@title\n",
        "import pandas as pd\n",
        "import numpy as np\n",
        "import nltk\n",
        "import future\n",
        "import matplotlib.pyplot as plt\n",
        "%matplotlib inline\n",
        "\n",
        "from sklearn.model_selection import train_test_split, GridSearchCV\n",
        "from sklearn.feature_extraction.text import CountVectorizer, TfidfVectorizer\n",
        "from sklearn.naive_bayes import BernoulliNB, MultinomialNB\n",
        "from sklearn import metrics\n",
        "from sklearn.metrics import roc_auc_score, accuracy_score\n",
        "from sklearn.preprocessing import label_binarize\n",
        "from sklearn.linear_model import LogisticRegression\n",
        "\n",
        "from sklearn.pipeline import Pipeline\n",
        "from sklearn import svm\n",
        "from sklearn.svm import LinearSVC\n",
        "from sklearn.svm import SVR\n",
        "from sklearn import metrics\n",
        "\n",
        "from sklearn.ensemble import RandomForestClassifier\n",
        "from sklearn.tree import DecisionTreeClassifier\n",
        "\n",
        "from bs4 import BeautifulSoup\n",
        "import re\n",
        "import nltk\n",
        "from nltk.corpus import stopwords"
      ]
    },
    {
      "cell_type": "code",
      "execution_count": null,
      "metadata": {
        "colab": {
          "base_uri": "https://localhost:8080/",
          "height": 354
        },
        "id": "_wEaHT1Tl0Ou",
        "outputId": "dc573372-22bf-49a3-a39e-23b6c8f9f4be"
      },
      "outputs": [
        {
          "output_type": "execute_result",
          "data": {
            "text/plain": [
              "                                        Product Name Brand Name   Price  \\\n",
              "0  \"CLEAR CLEAN ESN\" Sprint EPIC 4G Galaxy SPH-D7...    Samsung  199.99   \n",
              "1  \"CLEAR CLEAN ESN\" Sprint EPIC 4G Galaxy SPH-D7...    Samsung  199.99   \n",
              "2  \"CLEAR CLEAN ESN\" Sprint EPIC 4G Galaxy SPH-D7...    Samsung  199.99   \n",
              "3  \"CLEAR CLEAN ESN\" Sprint EPIC 4G Galaxy SPH-D7...    Samsung  199.99   \n",
              "4  \"CLEAR CLEAN ESN\" Sprint EPIC 4G Galaxy SPH-D7...    Samsung  199.99   \n",
              "\n",
              "   Rating                                            Reviews  Review Votes  \n",
              "0       5  I feel so LUCKY to have found this used (phone...           1.0  \n",
              "1       4  nice phone, nice up grade from my pantach revu...           0.0  \n",
              "2       5                                       Very pleased           0.0  \n",
              "3       4  It works good but it goes slow sometimes but i...           0.0  \n",
              "4       4  Great phone to replace my lost phone. The only...           0.0  "
            ],
            "text/html": [
              "\n",
              "  <div id=\"df-9f4bc38c-7303-4607-8a9e-cef5e65b84e8\">\n",
              "    <div class=\"colab-df-container\">\n",
              "      <div>\n",
              "<style scoped>\n",
              "    .dataframe tbody tr th:only-of-type {\n",
              "        vertical-align: middle;\n",
              "    }\n",
              "\n",
              "    .dataframe tbody tr th {\n",
              "        vertical-align: top;\n",
              "    }\n",
              "\n",
              "    .dataframe thead th {\n",
              "        text-align: right;\n",
              "    }\n",
              "</style>\n",
              "<table border=\"1\" class=\"dataframe\">\n",
              "  <thead>\n",
              "    <tr style=\"text-align: right;\">\n",
              "      <th></th>\n",
              "      <th>Product Name</th>\n",
              "      <th>Brand Name</th>\n",
              "      <th>Price</th>\n",
              "      <th>Rating</th>\n",
              "      <th>Reviews</th>\n",
              "      <th>Review Votes</th>\n",
              "    </tr>\n",
              "  </thead>\n",
              "  <tbody>\n",
              "    <tr>\n",
              "      <th>0</th>\n",
              "      <td>\"CLEAR CLEAN ESN\" Sprint EPIC 4G Galaxy SPH-D7...</td>\n",
              "      <td>Samsung</td>\n",
              "      <td>199.99</td>\n",
              "      <td>5</td>\n",
              "      <td>I feel so LUCKY to have found this used (phone...</td>\n",
              "      <td>1.0</td>\n",
              "    </tr>\n",
              "    <tr>\n",
              "      <th>1</th>\n",
              "      <td>\"CLEAR CLEAN ESN\" Sprint EPIC 4G Galaxy SPH-D7...</td>\n",
              "      <td>Samsung</td>\n",
              "      <td>199.99</td>\n",
              "      <td>4</td>\n",
              "      <td>nice phone, nice up grade from my pantach revu...</td>\n",
              "      <td>0.0</td>\n",
              "    </tr>\n",
              "    <tr>\n",
              "      <th>2</th>\n",
              "      <td>\"CLEAR CLEAN ESN\" Sprint EPIC 4G Galaxy SPH-D7...</td>\n",
              "      <td>Samsung</td>\n",
              "      <td>199.99</td>\n",
              "      <td>5</td>\n",
              "      <td>Very pleased</td>\n",
              "      <td>0.0</td>\n",
              "    </tr>\n",
              "    <tr>\n",
              "      <th>3</th>\n",
              "      <td>\"CLEAR CLEAN ESN\" Sprint EPIC 4G Galaxy SPH-D7...</td>\n",
              "      <td>Samsung</td>\n",
              "      <td>199.99</td>\n",
              "      <td>4</td>\n",
              "      <td>It works good but it goes slow sometimes but i...</td>\n",
              "      <td>0.0</td>\n",
              "    </tr>\n",
              "    <tr>\n",
              "      <th>4</th>\n",
              "      <td>\"CLEAR CLEAN ESN\" Sprint EPIC 4G Galaxy SPH-D7...</td>\n",
              "      <td>Samsung</td>\n",
              "      <td>199.99</td>\n",
              "      <td>4</td>\n",
              "      <td>Great phone to replace my lost phone. The only...</td>\n",
              "      <td>0.0</td>\n",
              "    </tr>\n",
              "  </tbody>\n",
              "</table>\n",
              "</div>\n",
              "      <button class=\"colab-df-convert\" onclick=\"convertToInteractive('df-9f4bc38c-7303-4607-8a9e-cef5e65b84e8')\"\n",
              "              title=\"Convert this dataframe to an interactive table.\"\n",
              "              style=\"display:none;\">\n",
              "        \n",
              "  <svg xmlns=\"http://www.w3.org/2000/svg\" height=\"24px\"viewBox=\"0 0 24 24\"\n",
              "       width=\"24px\">\n",
              "    <path d=\"M0 0h24v24H0V0z\" fill=\"none\"/>\n",
              "    <path d=\"M18.56 5.44l.94 2.06.94-2.06 2.06-.94-2.06-.94-.94-2.06-.94 2.06-2.06.94zm-11 1L8.5 8.5l.94-2.06 2.06-.94-2.06-.94L8.5 2.5l-.94 2.06-2.06.94zm10 10l.94 2.06.94-2.06 2.06-.94-2.06-.94-.94-2.06-.94 2.06-2.06.94z\"/><path d=\"M17.41 7.96l-1.37-1.37c-.4-.4-.92-.59-1.43-.59-.52 0-1.04.2-1.43.59L10.3 9.45l-7.72 7.72c-.78.78-.78 2.05 0 2.83L4 21.41c.39.39.9.59 1.41.59.51 0 1.02-.2 1.41-.59l7.78-7.78 2.81-2.81c.8-.78.8-2.07 0-2.86zM5.41 20L4 18.59l7.72-7.72 1.47 1.35L5.41 20z\"/>\n",
              "  </svg>\n",
              "      </button>\n",
              "      \n",
              "  <style>\n",
              "    .colab-df-container {\n",
              "      display:flex;\n",
              "      flex-wrap:wrap;\n",
              "      gap: 12px;\n",
              "    }\n",
              "\n",
              "    .colab-df-convert {\n",
              "      background-color: #E8F0FE;\n",
              "      border: none;\n",
              "      border-radius: 50%;\n",
              "      cursor: pointer;\n",
              "      display: none;\n",
              "      fill: #1967D2;\n",
              "      height: 32px;\n",
              "      padding: 0 0 0 0;\n",
              "      width: 32px;\n",
              "    }\n",
              "\n",
              "    .colab-df-convert:hover {\n",
              "      background-color: #E2EBFA;\n",
              "      box-shadow: 0px 1px 2px rgba(60, 64, 67, 0.3), 0px 1px 3px 1px rgba(60, 64, 67, 0.15);\n",
              "      fill: #174EA6;\n",
              "    }\n",
              "\n",
              "    [theme=dark] .colab-df-convert {\n",
              "      background-color: #3B4455;\n",
              "      fill: #D2E3FC;\n",
              "    }\n",
              "\n",
              "    [theme=dark] .colab-df-convert:hover {\n",
              "      background-color: #434B5C;\n",
              "      box-shadow: 0px 1px 3px 1px rgba(0, 0, 0, 0.15);\n",
              "      filter: drop-shadow(0px 1px 2px rgba(0, 0, 0, 0.3));\n",
              "      fill: #FFFFFF;\n",
              "    }\n",
              "  </style>\n",
              "\n",
              "      <script>\n",
              "        const buttonEl =\n",
              "          document.querySelector('#df-9f4bc38c-7303-4607-8a9e-cef5e65b84e8 button.colab-df-convert');\n",
              "        buttonEl.style.display =\n",
              "          google.colab.kernel.accessAllowed ? 'block' : 'none';\n",
              "\n",
              "        async function convertToInteractive(key) {\n",
              "          const element = document.querySelector('#df-9f4bc38c-7303-4607-8a9e-cef5e65b84e8');\n",
              "          const dataTable =\n",
              "            await google.colab.kernel.invokeFunction('convertToInteractive',\n",
              "                                                     [key], {});\n",
              "          if (!dataTable) return;\n",
              "\n",
              "          const docLinkHtml = 'Like what you see? Visit the ' +\n",
              "            '<a target=\"_blank\" href=https://colab.research.google.com/notebooks/data_table.ipynb>data table notebook</a>'\n",
              "            + ' to learn more about interactive tables.';\n",
              "          element.innerHTML = '';\n",
              "          dataTable['output_type'] = 'display_data';\n",
              "          await google.colab.output.renderOutput(dataTable, element);\n",
              "          const docLink = document.createElement('div');\n",
              "          docLink.innerHTML = docLinkHtml;\n",
              "          element.appendChild(docLink);\n",
              "        }\n",
              "      </script>\n",
              "    </div>\n",
              "  </div>\n",
              "  "
            ]
          },
          "metadata": {},
          "execution_count": 41
        }
      ],
      "source": [
        "import pandas as pd\n",
        "\n",
        "df = pd.read_csv('/Amazon_Unlocked_Mobile.csv', encoding='ISO-8859-1')\n",
        "df.head()\n"
      ]
    },
    {
      "cell_type": "code",
      "execution_count": null,
      "metadata": {
        "colab": {
          "base_uri": "https://localhost:8080/"
        },
        "id": "010fMiq_u8hs",
        "outputId": "b113d168-1cbf-4634-8665-b0530b67d781"
      },
      "outputs": [
        {
          "output_type": "stream",
          "name": "stdout",
          "text": [
            "Summary statistics of numerical features : \n",
            "                Price         Rating   Review Votes\n",
            "count  407907.000000  413840.000000  401544.000000\n",
            "mean      226.867155       3.819578       1.507237\n",
            "std       273.006259       1.548216       9.163853\n",
            "min         1.730000       1.000000       0.000000\n",
            "25%        79.990000       3.000000       0.000000\n",
            "50%       144.710000       5.000000       0.000000\n",
            "75%       269.990000       5.000000       1.000000\n",
            "max      2598.000000       5.000000     645.000000\n",
            "\n",
            "Total number of brands:  385\n",
            "\n",
            "Total number of unique products:  4410\n"
          ]
        }
      ],
      "source": [
        "print(\"Summary statistics of numerical features : \\n\", df.describe())\n",
        "print(\"\\nTotal number of brands: \", len(list(set(df['Brand Name']))))\n",
        "print(\"\\nTotal number of unique products: \", len(list(set(df['Product Name']))))\n"
      ]
    },
    {
      "cell_type": "code",
      "execution_count": null,
      "metadata": {
        "colab": {
          "base_uri": "https://localhost:8080/",
          "height": 683
        },
        "id": "Tl3bac7QzkPS",
        "outputId": "024d7723-273a-4639-ca2f-111a70adb139"
      },
      "outputs": [
        {
          "output_type": "execute_result",
          "data": {
            "text/plain": [
              "Text(0.5, 1.0, 'Number of Reviews for Top 20 Brands')"
            ]
          },
          "metadata": {},
          "execution_count": 43
        },
        {
          "output_type": "display_data",
          "data": {
            "text/plain": [
              "<Figure size 1200x800 with 1 Axes>"
            ],
            "image/png": "[encoded data removed]"
          },
          "metadata": {}
        }
      ],
      "source": [
        "# Plot number of reviews for top 20 brands\n",
        "brands = df[\"Brand Name\"].value_counts()\n",
        "# brands.count()\n",
        "plt.figure(figsize=(12,8))\n",
        "brands[1:20].plot(kind='bar')\n",
        "plt.title(\"Number of Reviews for Top 20 Brands\")"
      ]
    },
    {
      "cell_type": "code",
      "execution_count": null,
      "metadata": {
        "colab": {
          "base_uri": "https://localhost:8080/",
          "height": 354
        },
        "id": "5WBi0Yqi0rwN",
        "outputId": "7791196b-744e-4f72-8316-3966d0def1b8"
      },
      "outputs": [
        {
          "output_type": "execute_result",
          "data": {
            "text/plain": [
              "                                        Product Name Brand Name   Price  \\\n",
              "0  \"CLEAR CLEAN ESN\" Sprint EPIC 4G Galaxy SPH-D7...    Samsung  199.99   \n",
              "1  \"CLEAR CLEAN ESN\" Sprint EPIC 4G Galaxy SPH-D7...    Samsung  199.99   \n",
              "2  \"CLEAR CLEAN ESN\" Sprint EPIC 4G Galaxy SPH-D7...    Samsung  199.99   \n",
              "3  \"CLEAR CLEAN ESN\" Sprint EPIC 4G Galaxy SPH-D7...    Samsung  199.99   \n",
              "4  \"CLEAR CLEAN ESN\" Sprint EPIC 4G Galaxy SPH-D7...    Samsung  199.99   \n",
              "\n",
              "                                             Reviews Label  \n",
              "0  I feel so LUCKY to have found this used (phone...     2  \n",
              "1  nice phone, nice up grade from my pantach revu...     2  \n",
              "2                                       Very pleased     2  \n",
              "3  It works good but it goes slow sometimes but i...     2  \n",
              "4  Great phone to replace my lost phone. The only...     2  "
            ],
            "text/html": [
              "\n",
              "  <div id=\"df-99f92f97-87ac-495f-8644-a4ccc32bfc90\">\n",
              "    <div class=\"colab-df-container\">\n",
              "      <div>\n",
              "<style scoped>\n",
              "    .dataframe tbody tr th:only-of-type {\n",
              "        vertical-align: middle;\n",
              "    }\n",
              "\n",
              "    .dataframe tbody tr th {\n",
              "        vertical-align: top;\n",
              "    }\n",
              "\n",
              "    .dataframe thead th {\n",
              "        text-align: right;\n",
              "    }\n",
              "</style>\n",
              "<table border=\"1\" class=\"dataframe\">\n",
              "  <thead>\n",
              "    <tr style=\"text-align: right;\">\n",
              "      <th></th>\n",
              "      <th>Product Name</th>\n",
              "      <th>Brand Name</th>\n",
              "      <th>Price</th>\n",
              "      <th>Reviews</th>\n",
              "      <th>Label</th>\n",
              "    </tr>\n",
              "  </thead>\n",
              "  <tbody>\n",
              "    <tr>\n",
              "      <th>0</th>\n",
              "      <td>\"CLEAR CLEAN ESN\" Sprint EPIC 4G Galaxy SPH-D7...</td>\n",
              "      <td>Samsung</td>\n",
              "      <td>199.99</td>\n",
              "      <td>I feel so LUCKY to have found this used (phone...</td>\n",
              "      <td>2</td>\n",
              "    </tr>\n",
              "    <tr>\n",
              "      <th>1</th>\n",
              "      <td>\"CLEAR CLEAN ESN\" Sprint EPIC 4G Galaxy SPH-D7...</td>\n",
              "      <td>Samsung</td>\n",
              "      <td>199.99</td>\n",
              "      <td>nice phone, nice up grade from my pantach revu...</td>\n",
              "      <td>2</td>\n",
              "    </tr>\n",
              "    <tr>\n",
              "      <th>2</th>\n",
              "      <td>\"CLEAR CLEAN ESN\" Sprint EPIC 4G Galaxy SPH-D7...</td>\n",
              "      <td>Samsung</td>\n",
              "      <td>199.99</td>\n",
              "      <td>Very pleased</td>\n",
              "      <td>2</td>\n",
              "    </tr>\n",
              "    <tr>\n",
              "      <th>3</th>\n",
              "      <td>\"CLEAR CLEAN ESN\" Sprint EPIC 4G Galaxy SPH-D7...</td>\n",
              "      <td>Samsung</td>\n",
              "      <td>199.99</td>\n",
              "      <td>It works good but it goes slow sometimes but i...</td>\n",
              "      <td>2</td>\n",
              "    </tr>\n",
              "    <tr>\n",
              "      <th>4</th>\n",
              "      <td>\"CLEAR CLEAN ESN\" Sprint EPIC 4G Galaxy SPH-D7...</td>\n",
              "      <td>Samsung</td>\n",
              "      <td>199.99</td>\n",
              "      <td>Great phone to replace my lost phone. The only...</td>\n",
              "      <td>2</td>\n",
              "    </tr>\n",
              "  </tbody>\n",
              "</table>\n",
              "</div>\n",
              "      <button class=\"colab-df-convert\" onclick=\"convertToInteractive('df-99f92f97-87ac-495f-8644-a4ccc32bfc90')\"\n",
              "              title=\"Convert this dataframe to an interactive table.\"\n",
              "              style=\"display:none;\">\n",
              "        \n",
              "  <svg xmlns=\"http://www.w3.org/2000/svg\" height=\"24px\"viewBox=\"0 0 24 24\"\n",
              "       width=\"24px\">\n",
              "    <path d=\"M0 0h24v24H0V0z\" fill=\"none\"/>\n",
              "    <path d=\"M18.56 5.44l.94 2.06.94-2.06 2.06-.94-2.06-.94-.94-2.06-.94 2.06-2.06.94zm-11 1L8.5 8.5l.94-2.06 2.06-.94-2.06-.94L8.5 2.5l-.94 2.06-2.06.94zm10 10l.94 2.06.94-2.06 2.06-.94-2.06-.94-.94-2.06-.94 2.06-2.06.94z\"/><path d=\"M17.41 7.96l-1.37-1.37c-.4-.4-.92-.59-1.43-.59-.52 0-1.04.2-1.43.59L10.3 9.45l-7.72 7.72c-.78.78-.78 2.05 0 2.83L4 21.41c.39.39.9.59 1.41.59.51 0 1.02-.2 1.41-.59l7.78-7.78 2.81-2.81c.8-.78.8-2.07 0-2.86zM5.41 20L4 18.59l7.72-7.72 1.47 1.35L5.41 20z\"/>\n",
              "  </svg>\n",
              "      </button>\n",
              "      \n",
              "  <style>\n",
              "    .colab-df-container {\n",
              "      display:flex;\n",
              "      flex-wrap:wrap;\n",
              "      gap: 12px;\n",
              "    }\n",
              "\n",
              "    .colab-df-convert {\n",
              "      background-color: #E8F0FE;\n",
              "      border: none;\n",
              "      border-radius: 50%;\n",
              "      cursor: pointer;\n",
              "      display: none;\n",
              "      fill: #1967D2;\n",
              "      height: 32px;\n",
              "      padding: 0 0 0 0;\n",
              "      width: 32px;\n",
              "    }\n",
              "\n",
              "    .colab-df-convert:hover {\n",
              "      background-color: #E2EBFA;\n",
              "      box-shadow: 0px 1px 2px rgba(60, 64, 67, 0.3), 0px 1px 3px 1px rgba(60, 64, 67, 0.15);\n",
              "      fill: #174EA6;\n",
              "    }\n",
              "\n",
              "    [theme=dark] .colab-df-convert {\n",
              "      background-color: #3B4455;\n",
              "      fill: #D2E3FC;\n",
              "    }\n",
              "\n",
              "    [theme=dark] .colab-df-convert:hover {\n",
              "      background-color: #434B5C;\n",
              "      box-shadow: 0px 1px 3px 1px rgba(0, 0, 0, 0.15);\n",
              "      filter: drop-shadow(0px 1px 2px rgba(0, 0, 0, 0.3));\n",
              "      fill: #FFFFFF;\n",
              "    }\n",
              "  </style>\n",
              "\n",
              "      <script>\n",
              "        const buttonEl =\n",
              "          document.querySelector('#df-99f92f97-87ac-495f-8644-a4ccc32bfc90 button.colab-df-convert');\n",
              "        buttonEl.style.display =\n",
              "          google.colab.kernel.accessAllowed ? 'block' : 'none';\n",
              "\n",
              "        async function convertToInteractive(key) {\n",
              "          const element = document.querySelector('#df-99f92f97-87ac-495f-8644-a4ccc32bfc90');\n",
              "          const dataTable =\n",
              "            await google.colab.kernel.invokeFunction('convertToInteractive',\n",
              "                                                     [key], {});\n",
              "          if (!dataTable) return;\n",
              "\n",
              "          const docLinkHtml = 'Like what you see? Visit the ' +\n",
              "            '<a target=\"_blank\" href=https://colab.research.google.com/notebooks/data_table.ipynb>data table notebook</a>'\n",
              "            + ' to learn more about interactive tables.';\n",
              "          element.innerHTML = '';\n",
              "          dataTable['output_type'] = 'display_data';\n",
              "          await google.colab.output.renderOutput(dataTable, element);\n",
              "          const docLink = document.createElement('div');\n",
              "          docLink.innerHTML = docLinkHtml;\n",
              "          element.appendChild(docLink);\n",
              "        }\n",
              "      </script>\n",
              "    </div>\n",
              "  </div>\n",
              "  "
            ]
          },
          "metadata": {},
          "execution_count": 44
        }
      ],
      "source": [
        "# Drop missing value and unnamed columns\n",
        "# Drop missing value and unnamed columns\n",
        "res = df.dropna(axis=1, how='all')\n",
        "#res = res.loc[:, ~res.columns.str.contains('^Unnamed')]\n",
        "\n",
        "# Create labels based on Rating column\n",
        "labels = []\n",
        "for cell in res['Rating']:\n",
        "    if str(cell) >= str('4'):\n",
        "        labels.append('2')  # Good\n",
        "    elif str(cell) == str('3'):\n",
        "        labels.append('1')  # Neutral\n",
        "    else:\n",
        "        labels.append('0')  # Poor\n",
        "\n",
        "# Add Label column and remove Review Votes and Rating columns\n",
        "res['Label'] = labels\n",
        "res.drop(['Review Votes', 'Rating'], axis=1, inplace=True)\n",
        "\n",
        "res.head()"
      ]
    },
    {
      "cell_type": "code",
      "execution_count": null,
      "metadata": {
        "colab": {
          "base_uri": "https://localhost:8080/"
        },
        "id": "vcq2eg_DG1x-",
        "outputId": "0dbb6753-2a4b-40c0-c909-ab6a7b0bc2c8"
      },
      "outputs": [
        {
          "output_type": "stream",
          "name": "stdout",
          "text": [
            "Load 372456 training examples and 41384 validation examples. \n",
            "\n",
            "Show a review in the training set : \n",
            " Excellent\n"
          ]
        }
      ],
      "source": [
        "from sklearn.model_selection import train_test_split\n",
        "# Split data into training set and validation\n",
        "X_train, X_test, y_train, y_test = train_test_split(res['Reviews'], res['Label'], \\\n",
        "                                                    test_size=0.1, random_state=0)\n",
        "\n",
        "print('Load %d training examples and %d validation examples. \\n' %(X_train.shape[0],X_test.shape[0]))\n",
        "print('Show a review in the training set : \\n', X_train.iloc[45])"
      ]
    },
    {
      "cell_type": "code",
      "execution_count": null,
      "metadata": {
        "id": "kc-vB-d0NQCC"
      },
      "outputs": [],
      "source": [
        "import math\n",
        "import re\n",
        "\n",
        "def cleanText(raw_text, remove_stopwords=False, stemming=False, split_text=False):\n",
        "    '''\n",
        "    Convert a raw review to a cleaned review\n",
        "    '''\n",
        "    if isinstance(raw_text, float) and math.isnan(raw_text): # handle NaN values\n",
        "        return \"\"\n",
        "\n",
        "    text = BeautifulSoup(raw_text, 'lxml').get_text()  #remove html\n",
        "    letters_only = re.sub(\"[^a-zA-Z]\", \" \", text)  # remove non-character\n",
        "    words = letters_only.lower().split() # convert to lower case\n",
        "\n",
        "    if remove_stopwords: # remove stopword\n",
        "        stops = set(stopwords.words(\"english\"))\n",
        "        words = [w for w in words if not w in stops]\n",
        "\n",
        "    if stemming==True: # stemming\n",
        "#         stemmer = PorterStemmer()\n",
        "        stemmer = SnowballStemmer('english')\n",
        "        words = [stemmer.stem(w) for w in words]\n",
        "\n",
        "    if split_text==True:  # split text\n",
        "        return words\n",
        "\n",
        "    return \" \".join(words)"
      ]
    },
    {
      "cell_type": "code",
      "execution_count": null,
      "metadata": {
        "colab": {
          "base_uri": "https://localhost:8080/"
        },
        "id": "FAeBJZP8JM9J",
        "outputId": "bb46c135-fb2e-4b4b-a178-424e356eb9c6"
      },
      "outputs": [
        {
          "output_type": "stream",
          "name": "stderr",
          "text": [
            "<ipython-input-46-f8d68d18ab62>:11: MarkupResemblesLocatorWarning: The input looks more like a filename than markup. You may want to open this file and pass the filehandle into Beautiful Soup.\n",
            "  text = BeautifulSoup(raw_text, 'lxml').get_text()  #remove html\n",
            "<ipython-input-46-f8d68d18ab62>:11: MarkupResemblesLocatorWarning: The input looks more like a URL than markup. You may want to use an HTTP client like requests to get the document behind the URL, and feed that document to Beautiful Soup.\n",
            "  text = BeautifulSoup(raw_text, 'lxml').get_text()  #remove html\n"
          ]
        },
        {
          "output_type": "stream",
          "name": "stdout",
          "text": [
            "Show a cleaned review in the training set : \n",
            " great phone for the price very satisfied the power button is very sensitive and takes some getting used to resolution is great very high quality camera is excellent best i ve had comparing against samsung galaxy note and a zte fingerprint scan is very reliable as long as you re not a welder like me yes one cut or or burn will throw it off program it to different fingers only real downfall so far is my screen has broken from only a two foot fall with the factory protective jell case best to get an otterbox case or something much tougher\n"
          ]
        }
      ],
      "source": [
        "# Preprocess text data in training set and validation set\n",
        "X_train_cleaned = []\n",
        "X_test_cleaned = []\n",
        "\n",
        "for d in X_train:\n",
        "    X_train_cleaned.append(cleanText(d))\n",
        "print('Show a cleaned review in the training set : \\n',  X_train_cleaned[55])\n",
        "\n",
        "for d in X_test:\n",
        "    X_test_cleaned.append(cleanText(d))"
      ]
    },
    {
      "cell_type": "markdown",
      "metadata": {
        "id": "F57xyADFNlvI"
      },
      "source": [
        "CountVectorizer with Mulinomial Naive Bayes (Benchmark Model)\n",
        "\n",
        "we first create a CountVectorizer object and transform the training data using the fit_transform() method. We then train a MultinomialNB classifier on the transformed training data.\n",
        "\n",
        "Next, we transform the test data using the same vectorizer object using the transform() method. We then predict the labels for the test data using the trained MultinomialNB classifier and calculate the accuracy score using the accuracy_score() function from scikit-learn's metrics module.\n",
        "\n",
        "After that, we calculate the confusion matrix using the confusion_matrix() function and print it.\n",
        "\n",
        "\n",
        "\n",
        "**bold text**"
      ]
    },
    {
      "cell_type": "code",
      "execution_count": null,
      "metadata": {
        "colab": {
          "base_uri": "https://localhost:8080/"
        },
        "id": "DOr0SKllwtGY",
        "outputId": "f1f87881-d6ae-4680-bf98-8adbc8da427f"
      },
      "outputs": [
        {
          "output_type": "stream",
          "name": "stdout",
          "text": [
            "Number of features : 58555 \n",
            "\n",
            "Show some feature names : \n",
            " ['the', 'rendered', 'mention', 'observations', 'prepay', 'permanently', 'unlockedneutral', 'bags', 'snugly', 'mods', 'stafa', 'kingo', 'speakerscons', 'brain', 'beczus', 'pd', 'ird', 'qualifies', 'carte', 'returend', 'usmodel', 'factbe', 'lessconcerns', 'tecnoship', 'suffices', 'adores', 'atbat', 'choosefor', 'phond', 'sellig', 'exstatic', 'cuss', 'comed', 'bench', 'spreaker', 'riots', 'characterizes', 'arvelo', 'hunters', 'ofrec', 'lexwwos', 'egsm', 'uped', 'expansions', 'experi', 'resolutionmore', 'bieni', 'awoseme', 'coolmusic', 'shrunk', 'irresponsiblenot', 'cero', 'pricingthis', 'weekswon', 'jetaudio', 'countinously', 'protested', 'skepticals', 'diodes']\n",
            "Accuracy: 0.8541706939880147\n",
            "Confusion Matrix:\n",
            "[[ 7977   467  1455]\n",
            " [  978   809  1463]\n",
            " [ 1080   592 26563]]\n"
          ]
        }
      ],
      "source": [
        "from sklearn.feature_extraction.text import CountVectorizer\n",
        "from sklearn.naive_bayes import MultinomialNB\n",
        "from sklearn.metrics import accuracy_score, confusion_matrix, classification_report, roc_auc_score\n",
        "# Create CountVectorizer object and transform the training data\n",
        "vectorizer = CountVectorizer()\n",
        "X_train = vectorizer.fit_transform(X_train_cleaned)\n",
        "print(\"Number of features : %d \\n\" % len(vectorizer.vocabulary_))\n",
        "print(\"Show some feature names : \\n\", list(vectorizer.vocabulary_.keys())[::1000])\n",
        "\n",
        "# Train the model\n",
        "mnb = MultinomialNB()\n",
        "mnb.fit(X_train, y_train)\n",
        "\n",
        "# Transform the test data using the same vectorizer\n",
        "X_test = vectorizer.transform(X_test_cleaned)\n",
        "\n",
        "# Predict the labels for the test data\n",
        "y_pred = mnb.predict(X_test)\n",
        "\n",
        "# Calculate the accuracy score of the model\n",
        "accuracy = accuracy_score(y_test, y_pred)\n",
        "print(\"Accuracy:\", accuracy)\n",
        "\n",
        "# Calculate the confusion matrix\n",
        "cm = confusion_matrix(y_test, y_pred)\n",
        "print(\"Confusion Matrix:\")\n",
        "print(cm)"
      ]
    },
    {
      "cell_type": "markdown",
      "metadata": {
        "id": "AtOsea81bi6R"
      },
      "source": [
        "CounterVectorization with Logistic Regression\n",
        "Some words might frequently appear but have little meaningful information about the sentiment of a particular review.\n",
        "\n",
        "\n",
        "# New Section"
      ]
    },
    {
      "cell_type": "markdown",
      "metadata": {
        "id": "eIP6ImygNjwn"
      },
      "source": [
        "In the code, we first import the necessary packages such as CountVectorizer for vectorizing the text data, LogisticRegression for training a logistic regression model, and accuracy_score and confusion_matrix for evaluating the performance of the model.\n",
        "\n",
        "We then create an instance of the CountVectorizer class with a min_df parameter of 5, which specifies that we only want to consider terms that occur in at least 5 documents.\n",
        "\n",
        "Next, we fit the vectorizer to the training data using the fit_transform method to create a sparse matrix of term frequency counts for each document in the training set. We also use the transform method to convert the test data into a similar matrix.\n",
        "\n",
        "We then create an instance of the LogisticRegression class and fit it to the training data using the fit method.\n",
        "\n",
        "Finally, we make predictions on the test set using the predict method and calculate the accuracy of the model using the accuracy_score function. We also compute the confusion matrix using the confusion_matrix function to evaluate the performance of the model in more detail.\n",
        "\n",
        "\n",
        "\n",
        "**bold text**"
      ]
    },
    {
      "cell_type": "code",
      "execution_count": null,
      "metadata": {
        "colab": {
          "base_uri": "https://localhost:8080/"
        },
        "id": "E1ir_RADXhg6",
        "outputId": "f5b09e20-f5cf-42e0-9064-8537e3beb11b"
      },
      "outputs": [
        {
          "output_type": "stream",
          "name": "stdout",
          "text": [
            "Number of features : 21203 \n",
            "\n"
          ]
        },
        {
          "output_type": "stream",
          "name": "stderr",
          "text": [
            "/usr/local/lib/python3.9/dist-packages/sklearn/linear_model/_logistic.py:458: ConvergenceWarning: lbfgs failed to converge (status=1):\n",
            "STOP: TOTAL NO. of ITERATIONS REACHED LIMIT.\n",
            "\n",
            "Increase the number of iterations (max_iter) or scale the data as shown in:\n",
            "    https://scikit-learn.org/stable/modules/preprocessing.html\n",
            "Please also refer to the documentation for alternative solver options:\n",
            "    https://scikit-learn.org/stable/modules/linear_model.html#logistic-regression\n",
            "  n_iter_i = _check_optimize_result(\n"
          ]
        },
        {
          "output_type": "stream",
          "name": "stdout",
          "text": [
            "Accuracy: 0.8688140344094336\n",
            "Confusion matrix:\n",
            " [[ 8321   323  1255]\n",
            " [  994   761  1495]\n",
            " [  916   446 26873]]\n"
          ]
        }
      ],
      "source": [
        "import numpy as np\n",
        "from sklearn.feature_extraction.text import CountVectorizer\n",
        "from sklearn.linear_model import LogisticRegression\n",
        "from sklearn.metrics import accuracy_score, confusion_matrix\n",
        "\n",
        "# Convert input data to string\n",
        "X_train_str = np.array([str(text) for text in X_train])\n",
        "X_test_str = np.array([str(text) for text in X_test])\n",
        "\n",
        "# Vectorize the text using CountVectorizer\n",
        "vectorizer = CountVectorizer(min_df=5)\n",
        "X_train_vectorized = vectorizer.fit_transform(X_train_str)\n",
        "X_test_vectorized = vectorizer.transform(X_test_str)\n",
        "\n",
        "# Print number of features\n",
        "print(\"Number of features : %d \\n\" % len(vectorizer.vocabulary_))\n",
        "# Train a logistic regression model\n",
        "lr = LogisticRegression()\n",
        "lr.fit(X_train_vectorized, y_train)\n",
        "# Make predictions on the test set and calculate accuracy\n",
        "y_pred = lr.predict(X_test_vectorized)\n",
        "accuracy = accuracy_score(y_test, y_pred)\n",
        "print(\"Accuracy:\", accuracy)\n",
        "\n",
        "# Calculate confusion matrix\n",
        "cm = confusion_matrix(y_test, y_pred)\n",
        "print(\"Confusion matrix:\\n\", cm)"
      ]
    },
    {
      "cell_type": "markdown",
      "metadata": {
        "id": "dv8k9RqdSKNy"
      },
      "source": [
        "system will use two algorithms SVM and Random Forest to perform analysis and to determine which suits better for recommendation.\n",
        "\n",
        "Support Vector Machine\n",
        "Here we implement multi-svm for sentiment analysis.\n",
        "Tip 1 : Here, different kernels can be tried out. For example, linear, nonlinear, precomputed, rbf etc.\n",
        "Tip 2 : The parameter values given below can be tweaked to obtain different results.\n",
        "Using LinearSVC\n",
        "Here you can tweak the api parameters of LinearSVC as per your choice.\n",
        "\n"
      ]
    },
    {
      "cell_type": "code",
      "execution_count": null,
      "metadata": {
        "colab": {
          "base_uri": "https://localhost:8080/"
        },
        "id": "iF_E_NxTLK-X",
        "outputId": "2f56f4d7-169e-4ddb-83fe-086e94ca761c"
      },
      "outputs": [
        {
          "output_type": "stream",
          "name": "stdout",
          "text": [
            "Accuracy of this SVM = 0.9561365600691444\n",
            "Fscore of this SVM = (0.9560745861474521, 0.9561365600691444, 0.9561014737406478, None)\n",
            "F-1 score of this SVM = 0.9561014737406478\n",
            "confusion matrix = [[1383  106]\n",
            " [  97 3042]]\n"
          ]
        },
        {
          "output_type": "stream",
          "name": "stderr",
          "text": [
            "/usr/local/lib/python3.9/dist-packages/sklearn/metrics/_classification.py:1396: UserWarning: Note that pos_label (set to 2) is ignored when average != 'binary' (got 'weighted'). You may use labels=[pos_label] to specify a single positive class.\n",
            "  warnings.warn(\n",
            "/usr/local/lib/python3.9/dist-packages/sklearn/metrics/_classification.py:1396: UserWarning: Note that pos_label (set to 2) is ignored when average != 'binary' (got 'weighted'). You may use labels=[pos_label] to specify a single positive class.\n",
            "  warnings.warn(\n"
          ]
        }
      ],
      "source": [
        "from sklearn.feature_extraction.text import TfidfVectorizer\n",
        "from sklearn.svm import LinearSVC\n",
        "from sklearn import metrics\n",
        "\n",
        "# Initialize TfidfVectorizer\n",
        "tfidf = TfidfVectorizer()\n",
        "\n",
        "# Fit the vectorizer on the training data\n",
        "x_train_input = tfidf.fit_transform(X_train_cleaned)\n",
        "\n",
        "# Train a LinearSVC model\n",
        "svr_lin = LinearSVC(multi_class='ovr',C=1.0,loss='squared_hinge', dual=False)\n",
        "svr_lin.fit(x_train_input, y_train)\n",
        "\n",
        "# Make predictions on the test set\n",
        "y_svr_lin_predicted = svr_lin.predict(tfidf.transform(X_test_cleaned))\n",
        "\n",
        "# Evaluate the model\n",
        "print(\"Accuracy of this SVM = \" + str(metrics.accuracy_score(y_test, y_svr_lin_predicted)))\n",
        "print(\"Fscore of this SVM = \" + str(metrics.precision_recall_fscore_support(y_test, y_svr_lin_predicted, pos_label=2, average='weighted')))\n",
        "print(\"F-1 score of this SVM = \" + str(metrics.f1_score(y_test, y_svr_lin_predicted, pos_label=2, average='weighted')))\n",
        "print(\"confusion matrix = \" + str(metrics.confusion_matrix(y_test, y_svr_lin_predicted)))"
      ]
    },
    {
      "cell_type": "markdown",
      "metadata": {
        "id": "w5pnxEg7o-c5"
      },
      "source": []
    },
    {
      "cell_type": "markdown",
      "metadata": {
        "id": "u21GYS-hofOL"
      },
      "source": [
        "Decision Tree\n",
        "\n",
        "The first few lines of the code are used for training a Decision Tree Classifier model on a dataset. The data is split into training and testing sets using the train_test_split function from the sklearn library.\n",
        "\n",
        "The next line of code uses the trained model to make predictions on the test data.\n",
        "\n",
        "The function modelEvaluation is defined next. This function takes two arguments: the predicted labels and the true labels. It then calculates four metrics: accuracy, precision, recall, and F1-score, using functions from the sklearn library. These metrics are printed to the console.\n",
        "\n",
        "Finally, the modelEvaluation function is called with the predicted and true labels as arguments.\n",
        "\n"
      ]
    },
    {
      "cell_type": "code",
      "execution_count": null,
      "metadata": {
        "colab": {
          "base_uri": "https://localhost:8080/"
        },
        "id": "KZlrWghsTGoR",
        "outputId": "3efeedb3-8634-4164-fc98-f90be5e173d9"
      },
      "outputs": [
        {
          "output_type": "stream",
          "name": "stdout",
          "text": [
            "Accuracy: 0.9299\n",
            "Precision: 0.9288\n",
            "Recall: 0.9299\n",
            "F1-score: 0.9292\n",
            "Accuracy of Decision Tree = 0.9299\n"
          ]
        },
        {
          "output_type": "stream",
          "name": "stderr",
          "text": [
            "/usr/local/lib/python3.9/dist-packages/sklearn/metrics/_classification.py:1396: UserWarning: Note that pos_label (set to 2) is ignored when average != 'binary' (got 'weighted'). You may use labels=[pos_label] to specify a single positive class.\n",
            "  warnings.warn(\n"
          ]
        },
        {
          "output_type": "stream",
          "name": "stdout",
          "text": [
            "Fscore of this SVM = (0.9287667003909064, 0.929924608544365, 0.9292194357457486, None)\n"
          ]
        },
        {
          "output_type": "stream",
          "name": "stderr",
          "text": [
            "/usr/local/lib/python3.9/dist-packages/sklearn/metrics/_classification.py:1396: UserWarning: Note that pos_label (set to 2) is ignored when average != 'binary' (got 'weighted'). You may use labels=[pos_label] to specify a single positive class.\n",
            "  warnings.warn(\n"
          ]
        },
        {
          "output_type": "stream",
          "name": "stdout",
          "text": [
            "F-1 score of this SVM = 0.9292194357457486\n",
            "confusion matrix = [[ 8862   312   725]\n",
            " [  339  2346   565]\n",
            " [  625   334 27276]]\n"
          ]
        }
      ],
      "source": [
        "from sklearn.tree import DecisionTreeClassifier\n",
        "from sklearn import metrics\n",
        "\n",
        "decTree = DecisionTreeClassifier()\n",
        "decTree.fit(x_train_input, y_train)\n",
        "y_decTree_predicted = decTree.predict(tfidf.transform(X_test_cleaned))\n",
        "def modelEvaluation(y_predicted, y_true):\n",
        "    accuracy = metrics.accuracy_score(y_true, y_predicted)\n",
        "    precision = metrics.precision_score(y_true, y_predicted, average='weighted')\n",
        "    recall = metrics.recall_score(y_true, y_predicted, average='weighted')\n",
        "    f1_score = metrics.f1_score(y_true, y_predicted, average='weighted')\n",
        "    print(\"Accuracy: {:.4f}\".format(accuracy))\n",
        "    print(\"Precision: {:.4f}\".format(precision))\n",
        "    print(\"Recall: {:.4f}\".format(recall))\n",
        "    print(\"F1-score: {:.4f}\".format(f1_score))\n",
        "\n",
        "modelEvaluation(y_decTree_predicted, y_test)\n",
        "print(\"Accuracy of Decision Tree = {:.4f}\".format(decTree.score(tfidf.transform(X_test_cleaned), y_test)))\n",
        "print(\"Fscore of this SVM = \" + str(metrics.precision_recall_fscore_support(y_test, y_decTree_predicted, pos_label=2, average='weighted')))\n",
        "print(\"F-1 score of this SVM = \" + str(metrics.f1_score(y_test, y_decTree_predicted, pos_label=2, average='weighted')))\n",
        "print(\"confusion matrix = \" + str(metrics.confusion_matrix(y_test, y_decTree_predicted)))"
      ]
    },
    {
      "cell_type": "code",
      "execution_count": null,
      "metadata": {
        "id": "hXk3OKxNiHov"
      },
      "outputs": [],
      "source": [
        "import joblib\n",
        "file=open(\"Amazon_Sentimental_Analysis(1).joblib\",'wb')\n",
        "joblib.dump(svr_lin,file)"
      ]
    },
    {
      "cell_type": "code",
      "source": [
        "from sklearn.feature_extraction.text import TfidfVectorizer\n",
        "import joblib\n",
        "\n",
        "# Initialize TfidfVectorizer\n",
        "tfidf = TfidfVectorizer()\n",
        "\n",
        "# Fit the vectorizer on the training data\n",
        "x_train_input = tfidf.fit_transform(X_train_cleaned)\n",
        "\n",
        "# Save the vectorizer object\n",
        "joblib.dump(tfidf, 'tfidf_vectorizer(1).joblib')\n"
      ],
      "metadata": {
        "colab": {
          "base_uri": "https://localhost:8080/"
        },
        "id": "Jc2eFzsMRYNW",
        "outputId": "12287ca6-5676-45e1-fdfc-8ace6dffb401"
      },
      "execution_count": null,
      "outputs": [
        {
          "output_type": "execute_result",
          "data": {
            "text/plain": [
              "['tfidf_vectorizer(1).joblib']"
            ]
          },
          "metadata": {},
          "execution_count": 17
        }
      ]
    },
    {
      "cell_type": "code",
      "source": [
        "import joblib\n",
        "file=open(\"Amazon_Sentimental_Analysis(2).joblib\",'wb')\n",
        "joblib.dump(decTree,file)"
      ],
      "metadata": {
        "id": "ROLf0ruszeM4"
      },
      "execution_count": null,
      "outputs": []
    },
    {
      "cell_type": "code",
      "source": [
        "import pickle\n",
        "file=open(\"Amazon_Sentimental_Analysis(3).pkl\",'wb')\n",
        "pickle.dump(svr_lin,file)"
      ],
      "metadata": {
        "id": "DBH5BgEygv_G"
      },
      "execution_count": null,
      "outputs": []
    },
    {
      "cell_type": "code",
      "source": [
        "import os\n",
        "os.getcwd()\n"
      ],
      "metadata": {
        "id": "W8GVFj9ZTuhW"
      },
      "execution_count": null,
      "outputs": []
    }
  ],
  "metadata": {
    "colab": {
      "provenance": []
    },
    "gpuClass": "standard",
    "kernelspec": {
      "display_name": "Python 3",
      "name": "python3"
    },
    "language_info": {
      "name": "python"
    }
  },
  "nbformat": 4,
  "nbformat_minor": 0
}